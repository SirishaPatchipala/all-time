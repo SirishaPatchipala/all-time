{
 "cells": [
  {
   "cell_type": "markdown",
   "metadata": {},
   "source": [
    "- sets\n",
    "- dict\n",
    "- tuple\n",
    "- list\n",
    "- "
   ]
  },
  {
   "cell_type": "markdown",
   "metadata": {},
   "source": [
    "## contacts Application"
   ]
  },
  {
   "cell_type": "code",
   "execution_count": 1,
   "metadata": {},
   "outputs": [],
   "source": [
    "# name & no\n",
    "# search contact\n",
    "# edit contact\n",
    "# save contact (add contact)\n",
    "# delete a contact"
   ]
  },
  {
   "cell_type": "code",
   "execution_count": 2,
   "metadata": {},
   "outputs": [],
   "source": [
    "mycontact={}"
   ]
  },
  {
   "cell_type": "code",
   "execution_count": 3,
   "metadata": {},
   "outputs": [],
   "source": [
    "# add contact\n",
    "def addcontact(name,no):\n",
    "    if name not in mycontact:\n",
    "        mycontact[name]=no\n",
    "        print(\"contact added\")\n",
    "    else:\n",
    "        print(\"contact already exist\")"
   ]
  },
  {
   "cell_type": "code",
   "execution_count": 26,
   "metadata": {},
   "outputs": [
    {
     "name": "stdout",
     "output_type": "stream",
     "text": [
      "contact added\n"
     ]
    }
   ],
   "source": [
    "addcontact(\"manuu\",9877877777)"
   ]
  },
  {
   "cell_type": "code",
   "execution_count": null,
   "metadata": {},
   "outputs": [],
   "source": []
  },
  {
   "cell_type": "markdown",
   "metadata": {},
   "source": [
    "mycontact"
   ]
  },
  {
   "cell_type": "code",
   "execution_count": 27,
   "metadata": {},
   "outputs": [],
   "source": [
    "def searchcontact(name):\n",
    "    if name in mycontact:\n",
    "        print(name,\":\",mycontact[name])\n",
    "    else:\n",
    "        print(\"contact not found\")"
   ]
  },
  {
   "cell_type": "code",
   "execution_count": 28,
   "metadata": {},
   "outputs": [
    {
     "name": "stdout",
     "output_type": "stream",
     "text": [
      "siri : 9877888767\n"
     ]
    }
   ],
   "source": [
    "searchcontact(\"siri\")"
   ]
  },
  {
   "cell_type": "code",
   "execution_count": 29,
   "metadata": {},
   "outputs": [],
   "source": [
    "# edit contact\n",
    "def editcontact(name,no):\n",
    "    if name in mycontact:\n",
    "        mycontact[name]=no\n",
    "        print(\"contact edited\")\n",
    "    else:\n",
    "        print(\"contact not found\")"
   ]
  },
  {
   "cell_type": "code",
   "execution_count": 30,
   "metadata": {},
   "outputs": [
    {
     "data": {
      "text/plain": [
       "{'lahari': 9876578767,\n",
       " 'mouni': 9876578767,\n",
       " 'mounii': 9877578767,\n",
       " 'siri': 9877888767,\n",
       " 'manuu': 9877877777}"
      ]
     },
     "execution_count": 30,
     "metadata": {},
     "output_type": "execute_result"
    }
   ],
   "source": [
    "mycontact"
   ]
  },
  {
   "cell_type": "code",
   "execution_count": 31,
   "metadata": {},
   "outputs": [
    {
     "name": "stdout",
     "output_type": "stream",
     "text": [
      "contact edited\n"
     ]
    }
   ],
   "source": [
    "editcontact(\"manuu\",1234777777)"
   ]
  },
  {
   "cell_type": "code",
   "execution_count": 32,
   "metadata": {},
   "outputs": [],
   "source": [
    "# delete contact\n",
    "def deletecontact(name):\n",
    "    if name in mycontact:\n",
    "        mycontact.pop(name)\n",
    "        print(\"contact delete\")\n",
    "    else:\n",
    "        print(\"contact not found\")"
   ]
  },
  {
   "cell_type": "code",
   "execution_count": 33,
   "metadata": {},
   "outputs": [
    {
     "data": {
      "text/plain": [
       "{'lahari': 9876578767,\n",
       " 'mouni': 9876578767,\n",
       " 'mounii': 9877578767,\n",
       " 'siri': 9877888767,\n",
       " 'manuu': 1234777777}"
      ]
     },
     "execution_count": 33,
     "metadata": {},
     "output_type": "execute_result"
    }
   ],
   "source": [
    "mycontact"
   ]
  },
  {
   "cell_type": "code",
   "execution_count": 34,
   "metadata": {},
   "outputs": [
    {
     "name": "stdout",
     "output_type": "stream",
     "text": [
      "contact delete\n"
     ]
    }
   ],
   "source": [
    "deletecontact(\"siri\")"
   ]
  },
  {
   "cell_type": "code",
   "execution_count": 35,
   "metadata": {},
   "outputs": [
    {
     "name": "stdout",
     "output_type": "stream",
     "text": [
      "contact not found\n"
     ]
    }
   ],
   "source": [
    "deletecontact(\"siri\")"
   ]
  },
  {
   "cell_type": "code",
   "execution_count": 36,
   "metadata": {},
   "outputs": [
    {
     "data": {
      "text/plain": [
       "{'lahari': 9876578767,\n",
       " 'mouni': 9876578767,\n",
       " 'mounii': 9877578767,\n",
       " 'manuu': 1234777777}"
      ]
     },
     "execution_count": 36,
     "metadata": {},
     "output_type": "execute_result"
    }
   ],
   "source": [
    "mycontact"
   ]
  },
  {
   "cell_type": "code",
   "execution_count": 46,
   "metadata": {},
   "outputs": [],
   "source": [
    "def phonevalidator(no):\n",
    "    sn=str(no)\n",
    "    l=len(sn)\n",
    "    if(l==10 and (sn[0]=='9'or sn[0]=='8'or sn[0]=='7'or sn[0]=='6')):\n",
    "        return True\n",
    "    if(l==11 and sn[0]=='0'and (sn[1]=='9'or sn[1]=='8'or sn[1]=='7'\n",
    "or sn[1]=='6')):\n",
    "        return True\n",
    "    if(l==13 and sn[0]=='+'and sn[1:3]=='91' and (sn[3]=='9'or\n",
    "sn[3]=='8'or sn[3]=='7' or sn[3]=='6')):\n",
    "        return True\n",
    "    else:\n",
    "        return False"
   ]
  },
  {
   "cell_type": "code",
   "execution_count": 47,
   "metadata": {},
   "outputs": [
    {
     "data": {
      "text/plain": [
       "True"
      ]
     },
     "execution_count": 47,
     "metadata": {},
     "output_type": "execute_result"
    }
   ],
   "source": [
    "phonevalidator('+918765432988')"
   ]
  },
  {
   "cell_type": "code",
   "execution_count": 44,
   "metadata": {},
   "outputs": [],
   "source": [
    "import re\n",
    "def pvd1(no):\n",
    "    patteren='^[6-9][0-9]{9}$|[0][6-9][0-9]{9}$|[+][9][1][6-9][0-9]{9}$'\n",
    "    if re.match(patteren,str(no)):\n",
    "        return True\n",
    "    return False"
   ]
  },
  {
   "cell_type": "code",
   "execution_count": 45,
   "metadata": {},
   "outputs": [
    {
     "data": {
      "text/plain": [
       "True"
      ]
     },
     "execution_count": 45,
     "metadata": {},
     "output_type": "execute_result"
    }
   ],
   "source": [
    "pvd1('+918976543234')"
   ]
  },
  {
   "cell_type": "code",
   "execution_count": 56,
   "metadata": {},
   "outputs": [
    {
     "data": {
      "text/plain": [
       "12"
      ]
     },
     "execution_count": 56,
     "metadata": {},
     "output_type": "execute_result"
    }
   ],
   "source": [
    "len(str(+918765456784))"
   ]
  },
  {
   "cell_type": "code",
   "execution_count": 57,
   "metadata": {},
   "outputs": [
    {
     "data": {
      "text/plain": [
       "'919875645283'"
      ]
     },
     "execution_count": 57,
     "metadata": {},
     "output_type": "execute_result"
    }
   ],
   "source": [
    "str(+919875645283)"
   ]
  },
  {
   "cell_type": "code",
   "execution_count": 68,
   "metadata": {},
   "outputs": [],
   "source": [
    "from packages.validator import phonevalidator as pvd"
   ]
  },
  {
   "cell_type": "code",
   "execution_count": 73,
   "metadata": {},
   "outputs": [
    {
     "data": {
      "text/plain": [
       "True"
      ]
     },
     "execution_count": 73,
     "metadata": {},
     "output_type": "execute_result"
    }
   ],
   "source": [
    "pvd('+919490876567')"
   ]
  },
  {
   "cell_type": "code",
   "execution_count": 69,
   "metadata": {},
   "outputs": [
    {
     "data": {
      "text/plain": [
       "{'lahari': 9876578767,\n",
       " 'mouni': 9876578767,\n",
       " 'mounii': 9877578767,\n",
       " 'manuu': 1234777777}"
      ]
     },
     "execution_count": 69,
     "metadata": {},
     "output_type": "execute_result"
    }
   ],
   "source": [
    "mycontact"
   ]
  },
  {
   "cell_type": "code",
   "execution_count": 48,
   "metadata": {},
   "outputs": [],
   "source": [
    "mycontacts={}"
   ]
  },
  {
   "cell_type": "code",
   "execution_count": 50,
   "metadata": {},
   "outputs": [],
   "source": [
    "def addcontact(name,no,email):\n",
    "    if name not in mycontacts:\n",
    "        li=[]\n",
    "        li.append(no)\n",
    "        li.append(email)\n",
    "        mycontacts[name]=li\n",
    "        print(\"contact added\")\n",
    "    else:\n",
    "        print(\"contact exists\")"
   ]
  },
  {
   "cell_type": "code",
   "execution_count": 52,
   "metadata": {},
   "outputs": [
    {
     "name": "stdout",
     "output_type": "stream",
     "text": [
      "contact added\n"
     ]
    }
   ],
   "source": [
    "addcontact(\"manuu\",9877877777,\"mannu@gmail.com\")"
   ]
  },
  {
   "cell_type": "code",
   "execution_count": 55,
   "metadata": {},
   "outputs": [
    {
     "data": {
      "text/plain": [
       "{'manuu': [9877877777, 'mannu@gmail.com'],\n",
       " 'siri': [9877877799, 'sirii@gmail.com']}"
      ]
     },
     "execution_count": 55,
     "metadata": {},
     "output_type": "execute_result"
    }
   ],
   "source": [
    "mycontacts"
   ]
  },
  {
   "cell_type": "code",
   "execution_count": 54,
   "metadata": {},
   "outputs": [
    {
     "name": "stdout",
     "output_type": "stream",
     "text": [
      "contact added\n"
     ]
    }
   ],
   "source": [
    "addcontact(\"siri\",9877877799,\"sirii@gmail.com\")"
   ]
  },
  {
   "cell_type": "code",
   "execution_count": null,
   "metadata": {},
   "outputs": [],
   "source": []
  },
  {
   "cell_type": "code",
   "execution_count": null,
   "metadata": {},
   "outputs": [],
   "source": []
  },
  {
   "cell_type": "code",
   "execution_count": 93,
   "metadata": {},
   "outputs": [],
   "source": [
    "import re \n",
    "def emailValidator(email):\n",
    "    pattern='[a-z0-9][a-z0-9._]{5,20}[@][a-z0-9._]{4,8}[.][a-z]{2,4}'\n",
    "    if re.match(pattern,email):\n",
    "        return True\n",
    "    else:\n",
    "        return False"
   ]
  },
  {
   "cell_type": "code",
   "execution_count": 94,
   "metadata": {},
   "outputs": [
    {
     "data": {
      "text/plain": [
       "True"
      ]
     },
     "execution_count": 94,
     "metadata": {},
     "output_type": "execute_result"
    }
   ],
   "source": [
    "emailValidator(\"sirish23@gmail.com\")"
   ]
  },
  {
   "cell_type": "markdown",
   "metadata": {},
   "source": []
  }
 ],
 "metadata": {
  "kernelspec": {
   "display_name": "Python 3",
   "language": "python",
   "name": "python3"
  },
  "language_info": {
   "codemirror_mode": {
    "name": "ipython",
    "version": 3
   },
   "file_extension": ".py",
   "mimetype": "text/x-python",
   "name": "python",
   "nbconvert_exporter": "python",
   "pygments_lexer": "ipython3",
   "version": "3.7.3"
  }
 },
 "nbformat": 4,
 "nbformat_minor": 2
}
